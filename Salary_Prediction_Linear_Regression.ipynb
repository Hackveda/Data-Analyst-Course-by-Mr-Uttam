{
  "nbformat": 4,
  "nbformat_minor": 0,
  "metadata": {
    "kernelspec": {
      "display_name": "Python 3",
      "language": "python",
      "name": "python3"
    },
    "language_info": {
      "codemirror_mode": {
        "name": "ipython",
        "version": 3
      },
      "file_extension": ".py",
      "mimetype": "text/x-python",
      "name": "python",
      "nbconvert_exporter": "python",
      "pygments_lexer": "ipython3",
      "version": "3.8.5"
    },
    "colab": {
      "name": "Salary_Prediction_Linear_Regression.ipynb",
      "provenance": [],
      "collapsed_sections": []
    }
  },
  "cells": [
    {
      "cell_type": "markdown",
      "metadata": {
        "id": "jQahcNcwV1FN"
      },
      "source": [
        "# Salary Prediction"
      ]
    },
    {
      "cell_type": "markdown",
      "metadata": {
        "id": "SYz6W6aCV1Fg"
      },
      "source": [
        "Problem: Given a dataset which captures gross salary from july 2013 through jun,2014 and includes only those employees who were employedmon june, 2014. Predict salaries for employees in blatimore."
      ]
    },
    {
      "cell_type": "markdown",
      "metadata": {
        "id": "UvmWPnnpV1Fh"
      },
      "source": [
        "#  Outline\n",
        "1.Import Dataset\n",
        "2.Data Cleaning and Data preparation\n",
        "3.Exploratory Data Analysis\n",
        "4.Feature Engineering\n",
        "5.Train Test split\n",
        "6.Model Building\n",
        "7.Model evaluation"
      ]
    },
    {
      "cell_type": "code",
      "source": [
        "#Linear regression, at it's core, is a way of calculating the relationship between two variables.\n",
        "#Linear regression creates a linear mathematical relationships between these two variables. \n",
        "#It enables calculation predicting the dependent variable if the dependent variable is known."
      ],
      "metadata": {
        "id": "8QYuEUlt3f-_"
      },
      "execution_count": 2,
      "outputs": []
    },
    {
      "cell_type": "code",
      "source": [
        ""
      ],
      "metadata": {
        "id": "8ncrObaD3gBU"
      },
      "execution_count": null,
      "outputs": []
    },
    {
      "cell_type": "code",
      "source": [
        "import pandas as ad"
      ],
      "metadata": {
        "id": "QJpZhiJ03gE5"
      },
      "execution_count": 8,
      "outputs": []
    },
    {
      "cell_type": "code",
      "metadata": {
        "id": "_qfoXxILV1Fi"
      },
      "source": [
        "#Import Libraries for analysis\n",
        "import numpy as np # Alias\n",
        "import pandas as pd # preprocessing\n",
        "\n",
        "#Import Libraries for Visualization\n",
        "import matplotlib.pyplot as plt\n",
        "import seaborn as sns \n",
        "\n",
        "#Import libraries for train test split\n",
        "from sklearn.model_selection import train_test_split#(Scikit learn )\n",
        "\n",
        "#Import library for scaling\n",
        "from sklearn.preprocessing import StandardScaler\n",
        "\n",
        "#Import library for model building\n",
        "from sklearn.linear_model import LinearRegression\n",
        "\n",
        "# Supress Warnings\n",
        "import warnings\n",
        "warnings.filterwarnings('ignore')"
      ],
      "execution_count": 2,
      "outputs": []
    },
    {
      "cell_type": "markdown",
      "metadata": {
        "id": "r4N00QDfV1Fl"
      },
      "source": [
        "# Importing the dataset"
      ]
    },
    {
      "cell_type": "markdown",
      "metadata": {
        "id": "nVLCC6qgV1Fm"
      },
      "source": [
        "The data set is in csv format and can be imported using read_csv method available in pandas library."
      ]
    },
    {
      "cell_type": "code",
      "metadata": {
        "id": "93Su-YqKV1Fq"
      },
      "source": [
        "salary = pd.read_csv('//content//train_.csv')"
      ],
      "execution_count": 14,
      "outputs": []
    },
    {
      "cell_type": "code",
      "metadata": {
        "id": "b52IUMfxV1Fr",
        "colab": {
          "base_uri": "https://localhost:8080/",
          "height": 206
        },
        "outputId": "74420e66-9c7b-468e-ef86-8d89fbeb0696"
      },
      "source": [
        "salary.head()"
      ],
      "execution_count": 16,
      "outputs": [
        {
          "output_type": "execute_result",
          "data": {
            "text/html": [
              "\n",
              "  <div id=\"df-ae184364-4e18-4336-b3f3-e59e492e0aca\">\n",
              "    <div class=\"colab-df-container\">\n",
              "      <div>\n",
              "<style scoped>\n",
              "    .dataframe tbody tr th:only-of-type {\n",
              "        vertical-align: middle;\n",
              "    }\n",
              "\n",
              "    .dataframe tbody tr th {\n",
              "        vertical-align: top;\n",
              "    }\n",
              "\n",
              "    .dataframe thead th {\n",
              "        text-align: right;\n",
              "    }\n",
              "</style>\n",
              "<table border=\"1\" class=\"dataframe\">\n",
              "  <thead>\n",
              "    <tr style=\"text-align: right;\">\n",
              "      <th></th>\n",
              "      <th>Store</th>\n",
              "      <th>Dept</th>\n",
              "      <th>Date</th>\n",
              "      <th>Weekly_Sales</th>\n",
              "      <th>IsHoliday</th>\n",
              "    </tr>\n",
              "  </thead>\n",
              "  <tbody>\n",
              "    <tr>\n",
              "      <th>0</th>\n",
              "      <td>1</td>\n",
              "      <td>1</td>\n",
              "      <td>2010-02-05</td>\n",
              "      <td>24924.50</td>\n",
              "      <td>False</td>\n",
              "    </tr>\n",
              "    <tr>\n",
              "      <th>1</th>\n",
              "      <td>1</td>\n",
              "      <td>1</td>\n",
              "      <td>2010-02-12</td>\n",
              "      <td>46039.49</td>\n",
              "      <td>True</td>\n",
              "    </tr>\n",
              "    <tr>\n",
              "      <th>2</th>\n",
              "      <td>1</td>\n",
              "      <td>1</td>\n",
              "      <td>2010-02-19</td>\n",
              "      <td>41595.55</td>\n",
              "      <td>False</td>\n",
              "    </tr>\n",
              "    <tr>\n",
              "      <th>3</th>\n",
              "      <td>1</td>\n",
              "      <td>1</td>\n",
              "      <td>2010-02-26</td>\n",
              "      <td>19403.54</td>\n",
              "      <td>False</td>\n",
              "    </tr>\n",
              "    <tr>\n",
              "      <th>4</th>\n",
              "      <td>1</td>\n",
              "      <td>1</td>\n",
              "      <td>2010-03-05</td>\n",
              "      <td>21827.90</td>\n",
              "      <td>False</td>\n",
              "    </tr>\n",
              "  </tbody>\n",
              "</table>\n",
              "</div>\n",
              "      <button class=\"colab-df-convert\" onclick=\"convertToInteractive('df-ae184364-4e18-4336-b3f3-e59e492e0aca')\"\n",
              "              title=\"Convert this dataframe to an interactive table.\"\n",
              "              style=\"display:none;\">\n",
              "        \n",
              "  <svg xmlns=\"http://www.w3.org/2000/svg\" height=\"24px\"viewBox=\"0 0 24 24\"\n",
              "       width=\"24px\">\n",
              "    <path d=\"M0 0h24v24H0V0z\" fill=\"none\"/>\n",
              "    <path d=\"M18.56 5.44l.94 2.06.94-2.06 2.06-.94-2.06-.94-.94-2.06-.94 2.06-2.06.94zm-11 1L8.5 8.5l.94-2.06 2.06-.94-2.06-.94L8.5 2.5l-.94 2.06-2.06.94zm10 10l.94 2.06.94-2.06 2.06-.94-2.06-.94-.94-2.06-.94 2.06-2.06.94z\"/><path d=\"M17.41 7.96l-1.37-1.37c-.4-.4-.92-.59-1.43-.59-.52 0-1.04.2-1.43.59L10.3 9.45l-7.72 7.72c-.78.78-.78 2.05 0 2.83L4 21.41c.39.39.9.59 1.41.59.51 0 1.02-.2 1.41-.59l7.78-7.78 2.81-2.81c.8-.78.8-2.07 0-2.86zM5.41 20L4 18.59l7.72-7.72 1.47 1.35L5.41 20z\"/>\n",
              "  </svg>\n",
              "      </button>\n",
              "      \n",
              "  <style>\n",
              "    .colab-df-container {\n",
              "      display:flex;\n",
              "      flex-wrap:wrap;\n",
              "      gap: 12px;\n",
              "    }\n",
              "\n",
              "    .colab-df-convert {\n",
              "      background-color: #E8F0FE;\n",
              "      border: none;\n",
              "      border-radius: 50%;\n",
              "      cursor: pointer;\n",
              "      display: none;\n",
              "      fill: #1967D2;\n",
              "      height: 32px;\n",
              "      padding: 0 0 0 0;\n",
              "      width: 32px;\n",
              "    }\n",
              "\n",
              "    .colab-df-convert:hover {\n",
              "      background-color: #E2EBFA;\n",
              "      box-shadow: 0px 1px 2px rgba(60, 64, 67, 0.3), 0px 1px 3px 1px rgba(60, 64, 67, 0.15);\n",
              "      fill: #174EA6;\n",
              "    }\n",
              "\n",
              "    [theme=dark] .colab-df-convert {\n",
              "      background-color: #3B4455;\n",
              "      fill: #D2E3FC;\n",
              "    }\n",
              "\n",
              "    [theme=dark] .colab-df-convert:hover {\n",
              "      background-color: #434B5C;\n",
              "      box-shadow: 0px 1px 3px 1px rgba(0, 0, 0, 0.15);\n",
              "      filter: drop-shadow(0px 1px 2px rgba(0, 0, 0, 0.3));\n",
              "      fill: #FFFFFF;\n",
              "    }\n",
              "  </style>\n",
              "\n",
              "      <script>\n",
              "        const buttonEl =\n",
              "          document.querySelector('#df-ae184364-4e18-4336-b3f3-e59e492e0aca button.colab-df-convert');\n",
              "        buttonEl.style.display =\n",
              "          google.colab.kernel.accessAllowed ? 'block' : 'none';\n",
              "\n",
              "        async function convertToInteractive(key) {\n",
              "          const element = document.querySelector('#df-ae184364-4e18-4336-b3f3-e59e492e0aca');\n",
              "          const dataTable =\n",
              "            await google.colab.kernel.invokeFunction('convertToInteractive',\n",
              "                                                     [key], {});\n",
              "          if (!dataTable) return;\n",
              "\n",
              "          const docLinkHtml = 'Like what you see? Visit the ' +\n",
              "            '<a target=\"_blank\" href=https://colab.research.google.com/notebooks/data_table.ipynb>data table notebook</a>'\n",
              "            + ' to learn more about interactive tables.';\n",
              "          element.innerHTML = '';\n",
              "          dataTable['output_type'] = 'display_data';\n",
              "          await google.colab.output.renderOutput(dataTable, element);\n",
              "          const docLink = document.createElement('div');\n",
              "          docLink.innerHTML = docLinkHtml;\n",
              "          element.appendChild(docLink);\n",
              "        }\n",
              "      </script>\n",
              "    </div>\n",
              "  </div>\n",
              "  "
            ],
            "text/plain": [
              "   Store  Dept        Date  Weekly_Sales  IsHoliday\n",
              "0      1     1  2010-02-05      24924.50      False\n",
              "1      1     1  2010-02-12      46039.49       True\n",
              "2      1     1  2010-02-19      41595.55      False\n",
              "3      1     1  2010-02-26      19403.54      False\n",
              "4      1     1  2010-03-05      21827.90      False"
            ]
          },
          "metadata": {},
          "execution_count": 16
        }
      ]
    },
    {
      "cell_type": "markdown",
      "metadata": {
        "id": "C8d_Lf20V1Ft"
      },
      "source": [
        "# Data cleaning and preparation"
      ]
    },
    {
      "cell_type": "code",
      "metadata": {
        "id": "y8-_XiR_V1Fv",
        "colab": {
          "base_uri": "https://localhost:8080/"
        },
        "outputId": "127acb3e-0c68-42df-e413-e6b9fdda442c"
      },
      "source": [
        "salary.info()"
      ],
      "execution_count": 17,
      "outputs": [
        {
          "output_type": "stream",
          "name": "stdout",
          "text": [
            "<class 'pandas.core.frame.DataFrame'>\n",
            "RangeIndex: 421570 entries, 0 to 421569\n",
            "Data columns (total 5 columns):\n",
            " #   Column        Non-Null Count   Dtype  \n",
            "---  ------        --------------   -----  \n",
            " 0   Store         421570 non-null  int64  \n",
            " 1   Dept          421570 non-null  int64  \n",
            " 2   Date          421570 non-null  object \n",
            " 3   Weekly_Sales  421570 non-null  float64\n",
            " 4   IsHoliday     421570 non-null  bool   \n",
            "dtypes: bool(1), float64(1), int64(2), object(1)\n",
            "memory usage: 13.3+ MB\n"
          ]
        }
      ]
    },
    {
      "cell_type": "raw",
      "metadata": {
        "id": "HU6EAikSV1Fw"
      },
      "source": [
        "There are 18981 rows in the dataset.\n",
        "There are 7 columns in the dataset.\n",
        "All columns are of type object\n"
      ]
    },
    {
      "cell_type": "markdown",
      "metadata": {
        "id": "GIZ2IkIoV1Fw"
      },
      "source": [
        "Its always a good practice to work on copy of datasets instead of working on original data itself,"
      ]
    },
    {
      "cell_type": "code",
      "metadata": {
        "id": "IouB7_nlV1Fx"
      },
      "source": [
        "salary_cpy = salary.copy()"
      ],
      "execution_count": 18,
      "outputs": []
    },
    {
      "cell_type": "code",
      "source": [
        "type(salary) # table"
      ],
      "metadata": {
        "colab": {
          "base_uri": "https://localhost:8080/"
        },
        "id": "CTIO4d4TaSLi",
        "outputId": "679327c2-c7fe-4c41-fc8f-a6e33840dbd0"
      },
      "execution_count": 20,
      "outputs": [
        {
          "output_type": "execute_result",
          "data": {
            "text/plain": [
              "pandas.core.frame.DataFrame"
            ]
          },
          "metadata": {},
          "execution_count": 20
        }
      ]
    },
    {
      "cell_type": "code",
      "metadata": {
        "id": "ERfHM80sV1Fy",
        "colab": {
          "base_uri": "https://localhost:8080/"
        },
        "outputId": "6fbec7c9-1a03-4fac-ef6a-a4219c2a5e7b"
      },
      "source": [
        "salary_cpy.columns"
      ],
      "execution_count": 19,
      "outputs": [
        {
          "output_type": "execute_result",
          "data": {
            "text/plain": [
              "Index(['Store', 'Dept', 'Date', 'Weekly_Sales', 'IsHoliday'], dtype='object')"
            ]
          },
          "metadata": {},
          "execution_count": 19
        }
      ]
    },
    {
      "cell_type": "code",
      "metadata": {
        "id": "a2Ot5_1iV1Fz"
      },
      "source": [
        "# Since name has leading space so we are removing it.\n",
        "salary_cpy.columns = salary_cpy.columns.str.strip()"
      ],
      "execution_count": 22,
      "outputs": []
    },
    {
      "cell_type": "code",
      "metadata": {
        "id": "3o_4lGJTV1F0",
        "colab": {
          "base_uri": "https://localhost:8080/"
        },
        "outputId": "321f3a8d-5533-48ec-9153-e8b75cefd812"
      },
      "source": [
        "salary_cpy.columns"
      ],
      "execution_count": 23,
      "outputs": [
        {
          "output_type": "execute_result",
          "data": {
            "text/plain": [
              "Index(['Store', 'Dept', 'Date', 'Weekly_Sales', 'IsHoliday'], dtype='object')"
            ]
          },
          "metadata": {},
          "execution_count": 23
        }
      ]
    },
    {
      "cell_type": "code",
      "metadata": {
        "id": "VD4LBSnPV1F2",
        "colab": {
          "base_uri": "https://localhost:8080/"
        },
        "outputId": "e2de4314-47fe-41fe-fe6d-87b9d27e5355"
      },
      "source": [
        "# check null values\n",
        "salary_cpy.isnull().sum()"
      ],
      "execution_count": 25,
      "outputs": [
        {
          "output_type": "execute_result",
          "data": {
            "text/plain": [
              "Store           0\n",
              "Dept            0\n",
              "Date            0\n",
              "Weekly_Sales    0\n",
              "IsHoliday       0\n",
              "dtype: int64"
            ]
          },
          "metadata": {},
          "execution_count": 25
        }
      ]
    },
    {
      "cell_type": "code",
      "source": [
        "salary_cpy.head()"
      ],
      "metadata": {
        "colab": {
          "base_uri": "https://localhost:8080/",
          "height": 206
        },
        "id": "-ndhZhtCbwld",
        "outputId": "41173d7d-7369-45f9-cfb4-51468c384b8b"
      },
      "execution_count": 26,
      "outputs": [
        {
          "output_type": "execute_result",
          "data": {
            "text/html": [
              "\n",
              "  <div id=\"df-c0106b47-f0cf-40dc-81c3-2ad1a8ea0088\">\n",
              "    <div class=\"colab-df-container\">\n",
              "      <div>\n",
              "<style scoped>\n",
              "    .dataframe tbody tr th:only-of-type {\n",
              "        vertical-align: middle;\n",
              "    }\n",
              "\n",
              "    .dataframe tbody tr th {\n",
              "        vertical-align: top;\n",
              "    }\n",
              "\n",
              "    .dataframe thead th {\n",
              "        text-align: right;\n",
              "    }\n",
              "</style>\n",
              "<table border=\"1\" class=\"dataframe\">\n",
              "  <thead>\n",
              "    <tr style=\"text-align: right;\">\n",
              "      <th></th>\n",
              "      <th>Store</th>\n",
              "      <th>Dept</th>\n",
              "      <th>Date</th>\n",
              "      <th>Weekly_Sales</th>\n",
              "      <th>IsHoliday</th>\n",
              "    </tr>\n",
              "  </thead>\n",
              "  <tbody>\n",
              "    <tr>\n",
              "      <th>0</th>\n",
              "      <td>1</td>\n",
              "      <td>1</td>\n",
              "      <td>2010-02-05</td>\n",
              "      <td>24924.50</td>\n",
              "      <td>False</td>\n",
              "    </tr>\n",
              "    <tr>\n",
              "      <th>1</th>\n",
              "      <td>1</td>\n",
              "      <td>1</td>\n",
              "      <td>2010-02-12</td>\n",
              "      <td>46039.49</td>\n",
              "      <td>True</td>\n",
              "    </tr>\n",
              "    <tr>\n",
              "      <th>2</th>\n",
              "      <td>1</td>\n",
              "      <td>1</td>\n",
              "      <td>2010-02-19</td>\n",
              "      <td>41595.55</td>\n",
              "      <td>False</td>\n",
              "    </tr>\n",
              "    <tr>\n",
              "      <th>3</th>\n",
              "      <td>1</td>\n",
              "      <td>1</td>\n",
              "      <td>2010-02-26</td>\n",
              "      <td>19403.54</td>\n",
              "      <td>False</td>\n",
              "    </tr>\n",
              "    <tr>\n",
              "      <th>4</th>\n",
              "      <td>1</td>\n",
              "      <td>1</td>\n",
              "      <td>2010-03-05</td>\n",
              "      <td>21827.90</td>\n",
              "      <td>False</td>\n",
              "    </tr>\n",
              "  </tbody>\n",
              "</table>\n",
              "</div>\n",
              "      <button class=\"colab-df-convert\" onclick=\"convertToInteractive('df-c0106b47-f0cf-40dc-81c3-2ad1a8ea0088')\"\n",
              "              title=\"Convert this dataframe to an interactive table.\"\n",
              "              style=\"display:none;\">\n",
              "        \n",
              "  <svg xmlns=\"http://www.w3.org/2000/svg\" height=\"24px\"viewBox=\"0 0 24 24\"\n",
              "       width=\"24px\">\n",
              "    <path d=\"M0 0h24v24H0V0z\" fill=\"none\"/>\n",
              "    <path d=\"M18.56 5.44l.94 2.06.94-2.06 2.06-.94-2.06-.94-.94-2.06-.94 2.06-2.06.94zm-11 1L8.5 8.5l.94-2.06 2.06-.94-2.06-.94L8.5 2.5l-.94 2.06-2.06.94zm10 10l.94 2.06.94-2.06 2.06-.94-2.06-.94-.94-2.06-.94 2.06-2.06.94z\"/><path d=\"M17.41 7.96l-1.37-1.37c-.4-.4-.92-.59-1.43-.59-.52 0-1.04.2-1.43.59L10.3 9.45l-7.72 7.72c-.78.78-.78 2.05 0 2.83L4 21.41c.39.39.9.59 1.41.59.51 0 1.02-.2 1.41-.59l7.78-7.78 2.81-2.81c.8-.78.8-2.07 0-2.86zM5.41 20L4 18.59l7.72-7.72 1.47 1.35L5.41 20z\"/>\n",
              "  </svg>\n",
              "      </button>\n",
              "      \n",
              "  <style>\n",
              "    .colab-df-container {\n",
              "      display:flex;\n",
              "      flex-wrap:wrap;\n",
              "      gap: 12px;\n",
              "    }\n",
              "\n",
              "    .colab-df-convert {\n",
              "      background-color: #E8F0FE;\n",
              "      border: none;\n",
              "      border-radius: 50%;\n",
              "      cursor: pointer;\n",
              "      display: none;\n",
              "      fill: #1967D2;\n",
              "      height: 32px;\n",
              "      padding: 0 0 0 0;\n",
              "      width: 32px;\n",
              "    }\n",
              "\n",
              "    .colab-df-convert:hover {\n",
              "      background-color: #E2EBFA;\n",
              "      box-shadow: 0px 1px 2px rgba(60, 64, 67, 0.3), 0px 1px 3px 1px rgba(60, 64, 67, 0.15);\n",
              "      fill: #174EA6;\n",
              "    }\n",
              "\n",
              "    [theme=dark] .colab-df-convert {\n",
              "      background-color: #3B4455;\n",
              "      fill: #D2E3FC;\n",
              "    }\n",
              "\n",
              "    [theme=dark] .colab-df-convert:hover {\n",
              "      background-color: #434B5C;\n",
              "      box-shadow: 0px 1px 3px 1px rgba(0, 0, 0, 0.15);\n",
              "      filter: drop-shadow(0px 1px 2px rgba(0, 0, 0, 0.3));\n",
              "      fill: #FFFFFF;\n",
              "    }\n",
              "  </style>\n",
              "\n",
              "      <script>\n",
              "        const buttonEl =\n",
              "          document.querySelector('#df-c0106b47-f0cf-40dc-81c3-2ad1a8ea0088 button.colab-df-convert');\n",
              "        buttonEl.style.display =\n",
              "          google.colab.kernel.accessAllowed ? 'block' : 'none';\n",
              "\n",
              "        async function convertToInteractive(key) {\n",
              "          const element = document.querySelector('#df-c0106b47-f0cf-40dc-81c3-2ad1a8ea0088');\n",
              "          const dataTable =\n",
              "            await google.colab.kernel.invokeFunction('convertToInteractive',\n",
              "                                                     [key], {});\n",
              "          if (!dataTable) return;\n",
              "\n",
              "          const docLinkHtml = 'Like what you see? Visit the ' +\n",
              "            '<a target=\"_blank\" href=https://colab.research.google.com/notebooks/data_table.ipynb>data table notebook</a>'\n",
              "            + ' to learn more about interactive tables.';\n",
              "          element.innerHTML = '';\n",
              "          dataTable['output_type'] = 'display_data';\n",
              "          await google.colab.output.renderOutput(dataTable, element);\n",
              "          const docLink = document.createElement('div');\n",
              "          docLink.innerHTML = docLinkHtml;\n",
              "          element.appendChild(docLink);\n",
              "        }\n",
              "      </script>\n",
              "    </div>\n",
              "  </div>\n",
              "  "
            ],
            "text/plain": [
              "   Store  Dept        Date  Weekly_Sales  IsHoliday\n",
              "0      1     1  2010-02-05      24924.50      False\n",
              "1      1     1  2010-02-12      46039.49       True\n",
              "2      1     1  2010-02-19      41595.55      False\n",
              "3      1     1  2010-02-26      19403.54      False\n",
              "4      1     1  2010-03-05      21827.90      False"
            ]
          },
          "metadata": {},
          "execution_count": 26
        }
      ]
    },
    {
      "cell_type": "code",
      "source": [
        ""
      ],
      "metadata": {
        "id": "j6-8bmWtcALt"
      },
      "execution_count": 28,
      "outputs": []
    },
    {
      "cell_type": "code",
      "metadata": {
        "id": "KO23aqzBV1F6",
        "colab": {
          "base_uri": "https://localhost:8080/"
        },
        "outputId": "8fa5f6c4-52b4-4a3c-a1bc-ad8c5dc0ac3b"
      },
      "source": [
        "salary_cpy=salary_cpy.dropna(subset=['Date'])\n",
        "\n",
        "salary_cpy.isnull().sum()"
      ],
      "execution_count": 29,
      "outputs": [
        {
          "output_type": "execute_result",
          "data": {
            "text/plain": [
              "Store           0\n",
              "Dept            0\n",
              "Date            0\n",
              "Weekly_Sales    0\n",
              "IsHoliday       0\n",
              "dtype: int64"
            ]
          },
          "metadata": {},
          "execution_count": 29
        }
      ]
    },
    {
      "cell_type": "code",
      "metadata": {
        "id": "kL4E7Iq5V1F7"
      },
      "source": [
        "# Lets drop gross pay column\n",
        "# salary_cpy = salary_cpy.drop('GrossPay',axis=1)\n",
        "\n",
        "# salary_cpy.isnull().sum()"
      ],
      "execution_count": 31,
      "outputs": []
    },
    {
      "cell_type": "code",
      "metadata": {
        "id": "4On1sAQKV1F8"
      },
      "source": [
        "#salary_cpy.AgencyID.value_counts()"
      ],
      "execution_count": 33,
      "outputs": []
    },
    {
      "cell_type": "markdown",
      "metadata": {
        "id": "QIxxx5m_V1F-"
      },
      "source": [
        "There are 1177 agencies in blatimore.As per general understanding AgencyId represents agency, so we should have the same number of agencies as well. But after validating it seems one agency is having multiple agency Ids."
      ]
    },
    {
      "cell_type": "code",
      "metadata": {
        "id": "gKyYFZtxV1F-",
        "colab": {
          "base_uri": "https://localhost:8080/"
        },
        "outputId": "d0dc1c2d-d88b-4f8c-c0e5-21fd7eb2f0a8"
      },
      "source": [
        "# Value_counta for Agency\n",
        "salary_cpy.IsHoliday.value_counts()"
      ],
      "execution_count": 35,
      "outputs": [
        {
          "output_type": "execute_result",
          "data": {
            "text/plain": [
              "False    391909\n",
              "True      29661\n",
              "Name: IsHoliday, dtype: int64"
            ]
          },
          "metadata": {},
          "execution_count": 35
        }
      ]
    },
    {
      "cell_type": "code",
      "metadata": {
        "id": "D8iaL42uV1GA"
      },
      "source": [
        " #salary_cpy.JobTitle.value_counts()"
      ],
      "execution_count": 36,
      "outputs": []
    },
    {
      "cell_type": "code",
      "metadata": {
        "id": "O12QR8z0V1GC"
      },
      "source": [
        "# value counts on HireDate\n",
        "#salary_cpy.HireDate.value_counts()"
      ],
      "execution_count": 37,
      "outputs": []
    },
    {
      "cell_type": "code",
      "metadata": {
        "id": "ThTxGEH2V1GD",
        "colab": {
          "base_uri": "https://localhost:8080/"
        },
        "outputId": "c3a036b9-d373-476d-a206-ce61c2b26c53"
      },
      "source": [
        "salary_cpy.info()"
      ],
      "execution_count": 38,
      "outputs": [
        {
          "output_type": "stream",
          "name": "stdout",
          "text": [
            "<class 'pandas.core.frame.DataFrame'>\n",
            "Int64Index: 421570 entries, 0 to 421569\n",
            "Data columns (total 5 columns):\n",
            " #   Column        Non-Null Count   Dtype  \n",
            "---  ------        --------------   -----  \n",
            " 0   Store         421570 non-null  int64  \n",
            " 1   Dept          421570 non-null  int64  \n",
            " 2   Date          421570 non-null  object \n",
            " 3   Weekly_Sales  421570 non-null  float64\n",
            " 4   IsHoliday     421570 non-null  bool   \n",
            "dtypes: bool(1), float64(1), int64(2), object(1)\n",
            "memory usage: 16.5+ MB\n"
          ]
        }
      ]
    },
    {
      "cell_type": "markdown",
      "metadata": {
        "id": "JR2ISFF-V1GD"
      },
      "source": [
        "Removing $ from annual salary and converting it into float"
      ]
    },
    {
      "cell_type": "code",
      "metadata": {
        "id": "IjjB0FuaV1GE"
      },
      "source": [
        "salary_cpy['AnnualSalary'] = salary_cpy['AnnualSalary'].apply(lambda x : (float)(str(x)[1:]))"
      ],
      "execution_count": 40,
      "outputs": []
    },
    {
      "cell_type": "code",
      "metadata": {
        "scrolled": true,
        "id": "Uz1WqlfCV1GE"
      },
      "source": [
        "salary_cpy.AnnualSalary.value_counts()"
      ],
      "execution_count": null,
      "outputs": []
    },
    {
      "cell_type": "code",
      "metadata": {
        "id": "Rzex57ZGV1GF"
      },
      "source": [
        "salary_cpy.info()"
      ],
      "execution_count": null,
      "outputs": []
    },
    {
      "cell_type": "code",
      "metadata": {
        "id": "pXEjmMfXV1GF"
      },
      "source": [
        "salary_cpy['HireDay']=salary_cpy['HireDate'].apply(lambda x : (int)(str(x)[3:5]))\n",
        "salary_cpy['HireMonth']= salary_cpy['HireDate'].apply(lambda x: (int)(str(x[:2])))\n",
        "salary_cpy['HireYear']= salary_cpy['HireDate'].apply(lambda x: (int)(str(x[6:])))"
      ],
      "execution_count": null,
      "outputs": []
    },
    {
      "cell_type": "code",
      "metadata": {
        "id": "r_-lIvkNV1GG"
      },
      "source": [
        "salary_cpy.head()"
      ],
      "execution_count": null,
      "outputs": []
    },
    {
      "cell_type": "code",
      "metadata": {
        "id": "n5MB4OLfV1GG"
      },
      "source": [
        "# trimming all categorical columns to make sure there are no leading and trailing spaces and no double spaces between words"
      ],
      "execution_count": null,
      "outputs": []
    },
    {
      "cell_type": "code",
      "metadata": {
        "id": "uXWGyqYCV1GH"
      },
      "source": [
        "salary_cpy['JobTitle']=salary_cpy['JobTitle'].apply(lambda x : str(x).strip().replace(\"  \",\" \"))\n",
        "salary_cpy['AgencyID']=salary_cpy['AgencyID'].apply(lambda x : str(x).strip().replace(\"  \",\" \"))\n",
        "salary_cpy['Agency']=salary_cpy['Agency'].apply(lambda x : str(x).strip().replace(\"  \",\" \"))\n"
      ],
      "execution_count": null,
      "outputs": []
    },
    {
      "cell_type": "code",
      "metadata": {
        "id": "h0u3YI_5V1GK"
      },
      "source": [
        "salary_cpy.head()"
      ],
      "execution_count": null,
      "outputs": []
    },
    {
      "cell_type": "code",
      "metadata": {
        "id": "8nsdjAdoV1GN"
      },
      "source": [
        "# It can be seen that some of the job titles are in upper case. some with lower and with mix of both which might effect analysis, \n",
        "#so coverting them to uppercase and also converting agency and agencyid."
      ],
      "execution_count": null,
      "outputs": []
    },
    {
      "cell_type": "code",
      "metadata": {
        "id": "fDNb5me6V1GO"
      },
      "source": [
        "salary_cpy['JobTitle']=salary_cpy['JobTitle'].apply(lambda x : str(x).upper())\n",
        "salary_cpy['AgencyID']=salary_cpy['AgencyID'].apply(lambda x : str(x).upper())\n",
        "salary_cpy['Agency']=salary_cpy['Agency'].apply(lambda x : str(x).upper())"
      ],
      "execution_count": null,
      "outputs": []
    },
    {
      "cell_type": "code",
      "metadata": {
        "id": "18ftlpkVV1GP"
      },
      "source": [
        "salary_cpy.head()"
      ],
      "execution_count": null,
      "outputs": []
    },
    {
      "cell_type": "raw",
      "metadata": {
        "id": "lAaOsRi-V1GP"
      },
      "source": [
        "1. we can say there are few salaries which are way far from other dalaries.\n",
        "2. They might effect the prediction, so we have to eliminate them."
      ]
    },
    {
      "cell_type": "markdown",
      "metadata": {
        "id": "cjoJ0rl5V1GQ"
      },
      "source": [
        "The last thing left in data preparation is outlier treatment. so lets create Box Plot for annual salary and check for outliers.\n"
      ]
    },
    {
      "cell_type": "code",
      "metadata": {
        "id": "DG6ToAgvV1GQ"
      },
      "source": [
        "salary_cpy.shape"
      ],
      "execution_count": null,
      "outputs": []
    },
    {
      "cell_type": "code",
      "metadata": {
        "id": "uPF5x67sV1GQ"
      },
      "source": [
        "salary_cpy.AnnualSalary.plot.box()\n",
        "plt.show()"
      ],
      "execution_count": null,
      "outputs": []
    },
    {
      "cell_type": "code",
      "metadata": {
        "id": "fZ5IbWYSV1GR"
      },
      "source": [
        "# summary stats of annual salary\n",
        "salary_cpy.AnnualSalary.describe()"
      ],
      "execution_count": null,
      "outputs": []
    },
    {
      "cell_type": "markdown",
      "metadata": {
        "id": "NcwtolYKV1GR"
      },
      "source": [
        "delete rows whose annual salary >150000 according to box plot"
      ]
    },
    {
      "cell_type": "code",
      "metadata": {
        "id": "uHxPSFOSV1GR"
      },
      "source": [
        "salary_cpy= salary_cpy[salary_cpy['AnnualSalary']<140000]"
      ],
      "execution_count": null,
      "outputs": []
    },
    {
      "cell_type": "code",
      "metadata": {
        "id": "EhZ9aOd9V1GS"
      },
      "source": [
        "salary_cpy.shape"
      ],
      "execution_count": null,
      "outputs": []
    },
    {
      "cell_type": "code",
      "metadata": {
        "id": "4NMpbzXLV1GS"
      },
      "source": [
        "salary_cpy.AnnualSalary.plot.box()\n",
        "plt.show()"
      ],
      "execution_count": null,
      "outputs": []
    },
    {
      "cell_type": "code",
      "metadata": {
        "id": "IcYGExEUV1GT"
      },
      "source": [
        "# Now that we are done with the data preparation we can move to next step that is Exploratory Data Analysis."
      ],
      "execution_count": null,
      "outputs": []
    },
    {
      "cell_type": "code",
      "metadata": {
        "id": "TZ0MGuosV1GT"
      },
      "source": [
        "# We will first check the distribution of annual salary by creating the distplot\n",
        "sns.distplot(salary_cpy.AnnualSalary)\n",
        "plt.title(\"Annual Salary distribution plot\",fontsize=15)\n",
        "plt.show()"
      ],
      "execution_count": null,
      "outputs": []
    },
    {
      "cell_type": "markdown",
      "metadata": {
        "id": "GFJOxZX1V1GT"
      },
      "source": [
        "The data is distributed very randomly and there seems to be not many people with salary more than 100000"
      ]
    },
    {
      "cell_type": "markdown",
      "metadata": {
        "id": "YQYjM5FEV1GU"
      },
      "source": [
        "Let us check jobs for which people are hired the most.For this we will be creating a barplot."
      ]
    },
    {
      "cell_type": "code",
      "metadata": {
        "id": "xr-jClfjV1GU"
      },
      "source": [
        "plt.figure(figsize=(10,5))\n",
        "salary_cpy.groupby(['JobTitle'])['Name'].count().sort_values(ascending=False).head(10).plot.bar()\n",
        "plt.ylabel('No of people hired')\n",
        "plt.title('Top 10 jobs for which hiring is highest',fontsize=20)\n",
        "plt.show()"
      ],
      "execution_count": null,
      "outputs": []
    },
    {
      "cell_type": "markdown",
      "metadata": {
        "id": "Y2u2sGQZV1GU"
      },
      "source": [
        "This plot shows more number of people were hired for aide blue chip followed by job of police officer.other than these two all other job titles have less than 1000 workers. "
      ]
    },
    {
      "cell_type": "markdown",
      "metadata": {
        "id": "jqfaWvhvV1GV"
      },
      "source": [
        "Let us check the top 10 jobs that fetch highest salary"
      ]
    },
    {
      "cell_type": "code",
      "metadata": {
        "id": "P6ZbhG2tV1GV"
      },
      "source": [
        "plt.figure(figsize=(10,5))\n",
        "salary_cpy.groupby(['JobTitle'])['AnnualSalary'].mean().sort_values(ascending=False).head(10).plot.bar()\n",
        "plt.ylabel('Avg Salary')\n",
        "plt.title('Top 10 Highly paid jobs',fontsize=20)\n",
        "plt.show()"
      ],
      "execution_count": null,
      "outputs": []
    },
    {
      "cell_type": "markdown",
      "metadata": {
        "id": "-cayujsHV1GV"
      },
      "source": [
        "Number of jobs whose average pay is more than total average salary"
      ]
    },
    {
      "cell_type": "code",
      "metadata": {
        "id": "ah44mD2NV1GW"
      },
      "source": [
        "# Find mean salary\n",
        "mean_sal = salary_cpy.AnnualSalary.mean()\n",
        "\n",
        "# number of jobs paying more than mean salary\n",
        "good_paying_jobs = salary_cpy.groupby(['JobTitle'])['AnnualSalary'].mean().reset_index()\n",
        "good_paying_jobs[good_paying_jobs.AnnualSalary>mean_sal]['JobTitle'].count()"
      ],
      "execution_count": null,
      "outputs": []
    },
    {
      "cell_type": "code",
      "metadata": {
        "id": "FRSs1j43V1GW"
      },
      "source": [
        "good_paying_jobs"
      ],
      "execution_count": null,
      "outputs": []
    },
    {
      "cell_type": "markdown",
      "metadata": {
        "id": "NL3HXkj7V1GX"
      },
      "source": [
        "Let us check the top 10 agencies and agencyid with highest number of employees"
      ]
    },
    {
      "cell_type": "code",
      "metadata": {
        "id": "fpGUwd2WV1GX"
      },
      "source": [
        "plt.figure(figsize=(10,5))\n",
        "salary_cpy.groupby(['Agency'])['Name'].count().sort_values(ascending=False).head(10).plot.bar()\n",
        "plt.ylabel('no of employees')\n",
        "plt.title('top agencies with highest number of employees')\n",
        "plt.show()"
      ],
      "execution_count": null,
      "outputs": []
    },
    {
      "cell_type": "code",
      "metadata": {
        "id": "XJm9XrNdV1Gd"
      },
      "source": [
        "plt.figure(figsize=(10,5))\n",
        "salary_cpy.groupby(['AgencyID'])['Name'].count().sort_values(ascending=False).head(10).plot.bar()\n",
        "plt.ylabel('no of employees')\n",
        "plt.title('top agencieID with highest number of employees')\n",
        "plt.show()"
      ],
      "execution_count": null,
      "outputs": []
    },
    {
      "cell_type": "markdown",
      "metadata": {
        "id": "7gZQ_JacV1Ge"
      },
      "source": [
        "Let us check people hired in which year have lowest salaries.This is to check if as the hire year increases the salary decreases. Because, people have higher experience salary should be high."
      ]
    },
    {
      "cell_type": "code",
      "metadata": {
        "id": "NcyYdEJ3V1Ge"
      },
      "source": [
        "plt.figure(figsize=(10,5))\n",
        "salary_cpy.groupby(['HireYear'])['AnnualSalary'].mean().sort_values().head(10).plot.bar()\n",
        "plt.ylabel('average salary')\n",
        "plt.title('average salary of employee based on hire year')\n",
        "plt.show()"
      ],
      "execution_count": null,
      "outputs": []
    },
    {
      "cell_type": "markdown",
      "metadata": {
        "id": "xBjWBl1WV1Ge"
      },
      "source": [
        "The trend above suggests that the salary of the employees increases with experience in the company. So now lets calculate experience in days with Agency."
      ]
    },
    {
      "cell_type": "code",
      "metadata": {
        "id": "o9EGBHPcV1Gf"
      },
      "source": [
        "# checking if month has any such effect \n",
        "plt.figure(figsize=(10,5))\n",
        "salary_cpy.groupby(['HireMonth'])['AnnualSalary'].mean().plot.bar()\n",
        "plt.ylabel('average salary')\n",
        "plt.title('average salary of employee based on hire month')\n",
        "plt.show()"
      ],
      "execution_count": null,
      "outputs": []
    },
    {
      "cell_type": "code",
      "metadata": {
        "id": "jCZXIraHV1Gf"
      },
      "source": [
        "# checking if month has any such effect \n",
        "plt.figure(figsize=(10,5))\n",
        "salary_cpy.groupby(['HireMonth'])['Name'].count().plot.bar()\n",
        "plt.ylabel('average salary')\n",
        "plt.title('no of employee hired based on hire month')\n",
        "plt.show()"
      ],
      "execution_count": null,
      "outputs": []
    },
    {
      "cell_type": "markdown",
      "metadata": {
        "id": "M32r2aOqV1Gi"
      },
      "source": [
        "We can conclude more employees are hired in month of may and june but they have relatively lower average salaries."
      ]
    },
    {
      "cell_type": "code",
      "metadata": {
        "id": "5lDrCW5iV1Gi",
        "colab": {
          "base_uri": "https://localhost:8080/",
          "height": 743
        },
        "outputId": "c9990547-f6d2-4673-851a-ecdcd1e11a54"
      },
      "source": [
        "# Lets check if there is any relation between any of the numerical variable using pairplot\n",
        "plt.figure(figsize=(15,20))\n",
        "sns.pairplot(salary_cpy)\n",
        "plt.show()"
      ],
      "execution_count": 42,
      "outputs": [
        {
          "output_type": "display_data",
          "data": {
            "text/plain": [
              "<Figure size 1080x1440 with 0 Axes>"
            ]
          },
          "metadata": {}
        },
        {
          "output_type": "display_data",
          "data": {
            "image/png": "[encoded data removed]",
            "text/plain": [
              "<Figure size 720x720 with 20 Axes>"
            ]
          },
          "metadata": {
            "needs_background": "light"
          }
        }
      ]
    },
    {
      "cell_type": "code",
      "metadata": {
        "id": "_YiBK-GxV1Gj",
        "colab": {
          "base_uri": "https://localhost:8080/",
          "height": 343
        },
        "outputId": "e71560d2-8f14-4b74-952e-7746957ba07a"
      },
      "source": [
        "plt.figure(figsize=(10,5))\n",
        "sns.heatmap(salary_cpy.corr(),annot=True)"
      ],
      "execution_count": 43,
      "outputs": [
        {
          "output_type": "execute_result",
          "data": {
            "text/plain": [
              "<matplotlib.axes._subplots.AxesSubplot at 0x7fa227600690>"
            ]
          },
          "metadata": {},
          "execution_count": 43
        },
        {
          "output_type": "display_data",
          "data": {
            "image/png": "[encoded data removed]",
            "text/plain": [
              "<Figure size 720x360 with 2 Axes>"
            ]
          },
          "metadata": {
            "needs_background": "light"
          }
        }
      ]
    },
    {
      "cell_type": "markdown",
      "metadata": {
        "id": "t3pdOnawV1Gj"
      },
      "source": [
        "# Feature Engineering"
      ]
    },
    {
      "cell_type": "code",
      "metadata": {
        "id": "cKIqEFBEV1Gj"
      },
      "source": [
        "# create a copy of the dataframe\n",
        "salary_master=salary_cpy.copy()"
      ],
      "execution_count": null,
      "outputs": []
    },
    {
      "cell_type": "code",
      "metadata": {
        "id": "stbJsywbV1Gl"
      },
      "source": [
        "#We are using mean encoding here as the number of labels of categoriacl variables are very high and \n",
        "#if we use any other method then that will create unnecessary variables or labelling might not be appropriate."
      ],
      "execution_count": null,
      "outputs": []
    },
    {
      "cell_type": "code",
      "metadata": {
        "id": "pmeniFVbV1Gm"
      },
      "source": [
        "# Apply mean encoding for job title\n",
        "mean_job = salary_master.groupby('JobTitle')['AnnualSalary'].mean()\n",
        "salary_master['JobTitle']= salary_master['JobTitle'].map(mean_job)\n",
        "salary_master['JobTitle']"
      ],
      "execution_count": null,
      "outputs": []
    },
    {
      "cell_type": "code",
      "metadata": {
        "id": "-xTfFmnNV1Gm"
      },
      "source": [
        "# Apply mean encoding for agency\n",
        "mean_agency = salary_master.groupby('Agency')['AnnualSalary'].mean()\n",
        "salary_master['Agency']= salary_master['Agency'].map(mean_agency)\n",
        "salary_master['Agency']"
      ],
      "execution_count": null,
      "outputs": []
    },
    {
      "cell_type": "code",
      "metadata": {
        "id": "3DoBQl0UV1Gn"
      },
      "source": [
        "# Apply mean encoding for AgencyId\n",
        "mean_agencyid = salary_master.groupby('AgencyID')['AnnualSalary'].mean()\n",
        "salary_master['AgencyID']= salary_master['AgencyID'].map(mean_agencyid)\n",
        "salary_master['AgencyID']"
      ],
      "execution_count": null,
      "outputs": []
    },
    {
      "cell_type": "code",
      "metadata": {
        "id": "W0ISnYw9V1Go"
      },
      "source": [
        "salary_master.info()"
      ],
      "execution_count": null,
      "outputs": []
    },
    {
      "cell_type": "code",
      "metadata": {
        "id": "BjabB8JGV1Go"
      },
      "source": [
        "# drop name, hiredate column\n",
        "salary_master = salary_master.drop(['HireDate','Name'],axis=1)\n",
        "\n",
        "salary_master.info()"
      ],
      "execution_count": null,
      "outputs": []
    },
    {
      "cell_type": "code",
      "metadata": {
        "id": "gfhsCoc0V1Gv"
      },
      "source": [
        "sns.heatmap(salary_master.corr(),annot=True)"
      ],
      "execution_count": null,
      "outputs": []
    },
    {
      "cell_type": "markdown",
      "metadata": {
        "id": "h9YyCx3TV1Gw"
      },
      "source": [
        "# Train -Test split"
      ]
    },
    {
      "cell_type": "code",
      "metadata": {
        "id": "nK6gAJ4YV1Gw"
      },
      "source": [
        "# split data into train and test using train-test split\n",
        "salary_train, salary_test = train_test_split(salary_master,train_size=0.7, random_state=10)"
      ],
      "execution_count": null,
      "outputs": []
    },
    {
      "cell_type": "code",
      "metadata": {
        "id": "lYkPaWoEV1Gx"
      },
      "source": [
        "print(salary_train.shape)\n",
        "print(salary_test.shape)"
      ],
      "execution_count": null,
      "outputs": []
    },
    {
      "cell_type": "code",
      "metadata": {
        "id": "nxQ3D8adV1Gx"
      },
      "source": [
        "# divide train set into dependent and independent variables\n",
        "y_train = salary_train.pop('AnnualSalary')\n",
        "x_train = salary_train\n",
        "\n",
        "## divide test set into dependent and independent variables\n",
        "y_test = salary_test.pop('AnnualSalary')\n",
        "x_test = salary_test"
      ],
      "execution_count": null,
      "outputs": []
    },
    {
      "cell_type": "code",
      "metadata": {
        "id": "f71rgu7fV1Gx"
      },
      "source": [
        "x_train"
      ],
      "execution_count": null,
      "outputs": []
    },
    {
      "cell_type": "markdown",
      "metadata": {
        "id": "GAkcZlwtV1Gy"
      },
      "source": [
        "# Feature scaling"
      ]
    },
    {
      "cell_type": "code",
      "metadata": {
        "id": "1yQq2I2rV1Gy"
      },
      "source": [
        "scaler = StandardScaler()\n",
        "x_train[x_train.columns] = scaler.fit_transform(x_train[x_train.columns])\n",
        "x_train"
      ],
      "execution_count": null,
      "outputs": []
    },
    {
      "cell_type": "code",
      "metadata": {
        "id": "o8Rf3WzOV1Gy"
      },
      "source": [
        "x_test[x_test.columns] =scaler.transform(x_test[x_test.columns])"
      ],
      "execution_count": null,
      "outputs": []
    },
    {
      "cell_type": "markdown",
      "metadata": {
        "id": "eQXximejV1Gz"
      },
      "source": [
        "# Model Building\n",
        "we are building linear regression model"
      ]
    },
    {
      "cell_type": "code",
      "metadata": {
        "id": "a5t_i8e3V1Gz"
      },
      "source": [
        "## small example that how linear regression works"
      ],
      "execution_count": null,
      "outputs": []
    },
    {
      "cell_type": "code",
      "metadata": {
        "id": "w-nepD5JV1Gz"
      },
      "source": [
        "example_df = pd.DataFrame({'Performance':[1,2,3,4,5,6],'levels':[2,5,4,6,1,3],'Target':[100,300,200,600,200,500]})\n",
        "example_df"
      ],
      "execution_count": null,
      "outputs": []
    },
    {
      "cell_type": "code",
      "metadata": {
        "id": "dwjqi4B6V1G0"
      },
      "source": [
        "example_lr = LogisticRegression() # y(100) = m1(area)1 + m2(petrol)2+m3()3 + c\n",
        "example_model = example_lr.fit(example_df[['Performance','levels']],example_df['Target']) "
      ],
      "execution_count": null,
      "outputs": []
    },
    {
      "cell_type": "code",
      "metadata": {
        "id": "czMrDBajV1G0"
      },
      "source": [
        "# R square value\n",
        "example_model.score(example_df[['Performance','levels']],example_df['Target'])# 30%"
      ],
      "execution_count": null,
      "outputs": []
    },
    {
      "cell_type": "code",
      "metadata": {
        "id": "vgxFe_LXV1G0"
      },
      "source": [
        "print(example_lr.coef_)\n",
        "print(example_lr.intercept_)"
      ],
      "execution_count": null,
      "outputs": []
    },
    {
      "cell_type": "code",
      "metadata": {
        "id": "gJcN9mgdV1G1"
      },
      "source": [
        "example_model.predict([[5, 2, 3]])"
      ],
      "execution_count": null,
      "outputs": []
    },
    {
      "cell_type": "code",
      "metadata": {
        "id": "snBMUSJbV1G1"
      },
      "source": [
        ""
      ],
      "execution_count": null,
      "outputs": []
    },
    {
      "cell_type": "code",
      "metadata": {
        "id": "IhengaToV1G1"
      },
      "source": [
        "## Applying linear regression on Actual data\n",
        "\n",
        "lr = LinearRegression()\n",
        "\n",
        "salary_reg = lr.fit(x_train,y_train)"
      ],
      "execution_count": null,
      "outputs": []
    },
    {
      "cell_type": "code",
      "metadata": {
        "id": "V4ehwc6mV1G2"
      },
      "source": [
        "salary_reg.score(x_train,y_train)"
      ],
      "execution_count": null,
      "outputs": []
    },
    {
      "cell_type": "code",
      "metadata": {
        "id": "D8brjpvGV1G2"
      },
      "source": [
        "salary_reg.score(x_test,y_test)"
      ],
      "execution_count": null,
      "outputs": []
    },
    {
      "cell_type": "markdown",
      "metadata": {
        "id": "CYkuEaORV1G2"
      },
      "source": [
        "### Even though our model performs well on train data, that doesn't mean the model is good. The model should equally perform well on the test data .i.e the data that model has not encountered yet. only then a model is considered a good model. if the model is just performing good on training data and not on test data then we can say overfitting is there. and when model doest perform well on either train data and test data then underfitting is there.\n",
        "####  Hyperparameter tuning \n",
        "#### Now overfitting  can be treated by regularization."
      ]
    },
    {
      "cell_type": "code",
      "metadata": {
        "id": "gTBWxY9ZV1G3"
      },
      "source": [
        "print(salary_reg.coef_)\n",
        "print(salary_reg.intercept_)"
      ],
      "execution_count": null,
      "outputs": []
    },
    {
      "cell_type": "code",
      "metadata": {
        "id": "3_5khHSKV1G3"
      },
      "source": [
        "y_pred = salary_reg.predict(x_test)"
      ],
      "execution_count": null,
      "outputs": []
    },
    {
      "cell_type": "code",
      "metadata": {
        "id": "t8dwEb6RV1G3"
      },
      "source": [
        "y_pred"
      ],
      "execution_count": null,
      "outputs": []
    },
    {
      "cell_type": "code",
      "metadata": {
        "id": "BDum3dAQV1G4"
      },
      "source": [
        "y_test"
      ],
      "execution_count": null,
      "outputs": []
    },
    {
      "cell_type": "code",
      "metadata": {
        "id": "oizBzbyDV1G4"
      },
      "source": [
        "## out  of all features agencyid, job title and hireyear are the major driver for explaining variance in annual salary\n",
        "#because yhey have higher coeficient value.\n",
        "## other than first two features all features are negatively correlated with annual salary."
      ],
      "execution_count": null,
      "outputs": []
    }
  ]
}